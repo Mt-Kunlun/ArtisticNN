{
 "cells": [
  {
   "cell_type": "markdown",
   "metadata": {},
   "source": [
    "This is an implementation of the artistic neural network as described in this [paper](https://arxiv.org/abs/1508.06576). VGG pretrained model weights can be downloaded from [here](http://www.vlfeat.org/matconvnet/models/). Use imagenet-vgg-verydeep-19.mat and imagenet-vgg-verydeep-16.mat"
   ]
  },
  {
   "cell_type": "code",
   "execution_count": 3,
   "metadata": {
    "collapsed": true
   },
   "outputs": [],
   "source": [
    "import os\n",
    "import sys\n",
    "import numpy as np\n",
    "import scipy.io\n",
    "import scipy.misc\n",
    "import tensorflow as tf"
   ]
  },
  {
   "cell_type": "code",
   "execution_count": 6,
   "metadata": {
    "collapsed": false
   },
   "outputs": [],
   "source": [
    "class VGG(object):\n",
    "    \n",
    "    def __init__(self):\n",
    "        self.model = None\n",
    "    \n",
    "    def factory(name, model_path):\n",
    "        \"\"\"\n",
    "        The factory to create the corresponding model we will use\n",
    "        Available names include \"VGG16\" and \"VGG19\"\n",
    "        \"\"\"\n",
    "        if name == \"VGG16\": return VGG16(model_path)\n",
    "        if name == \"VGG19\": return VGG19(model_path)\n",
    "        \n",
    "    factory = staticmethod(factory)\n",
    "    \n",
    "    def load_model(self):\n",
    "        raise NotImplementedError(\"Abstract method\")\n",
    "    \n",
    "    def content_loss(self):\n",
    "        raise NotImplementedError(\"Abstract method\")\n",
    "    \n",
    "    def style_loss(self):\n",
    "        raise NotImplementedError(\"Abstract method\")\n",
    "        \n",
    "    def emit(self):\n",
    "        return self.model"
   ]
  },
  {
   "cell_type": "code",
   "execution_count": 4,
   "metadata": {
    "collapsed": true
   },
   "outputs": [],
   "source": [
    "class VGG19(VGG):\n",
    "    \n",
    "    def __init__(self, model_path):\n",
    "        self.path  = model_path\n",
    "        self.model = load_model()\n",
    "    \n",
    "    def load_model(self):\n",
    "        vgg_layers = scipy.io.loadmat(self.path)['layers']\n",
    "        num_layers = len(vgg_layers[0])\n",
    "        "
   ]
  },
  {
   "cell_type": "code",
   "execution_count": 44,
   "metadata": {
    "collapsed": false
   },
   "outputs": [],
   "source": [
    "vgg = scipy.io.loadmat(\"models/imagenet-vgg-verydeep-16.mat\")"
   ]
  },
  {
   "cell_type": "code",
   "execution_count": 48,
   "metadata": {
    "collapsed": false,
    "scrolled": true
   },
   "outputs": [
    {
     "name": "stdout",
     "output_type": "stream",
     "text": [
      "[u'conv']\n"
     ]
    }
   ],
   "source": [
    "print vgg['layers'][0][0][0][0][1]"
   ]
  },
  {
   "cell_type": "code",
   "execution_count": 52,
   "metadata": {
    "collapsed": false
   },
   "outputs": [
    {
     "name": "stdout",
     "output_type": "stream",
     "text": [
      "37\n"
     ]
    }
   ],
   "source": [
    "print len(vgg['layers'][0])"
   ]
  }
 ],
 "metadata": {
  "kernelspec": {
   "display_name": "Python 2",
   "language": "python",
   "name": "python2"
  },
  "language_info": {
   "codemirror_mode": {
    "name": "ipython",
    "version": 2
   },
   "file_extension": ".py",
   "mimetype": "text/x-python",
   "name": "python",
   "nbconvert_exporter": "python",
   "pygments_lexer": "ipython2",
   "version": "2.7.12"
  }
 },
 "nbformat": 4,
 "nbformat_minor": 2
}
