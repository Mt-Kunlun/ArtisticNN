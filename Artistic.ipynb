{
 "cells": [
  {
   "cell_type": "markdown",
   "metadata": {},
   "source": [
    "This is an implementation of the artistic neural network as described in this [paper](https://arxiv.org/abs/1508.06576). VGG pretrained model weights can be downloaded from [here](http://www.vlfeat.org/matconvnet/models/). Use imagenet-vgg-verydeep-19.mat and imagenet-vgg-verydeep-16.mat"
   ]
  },
  {
   "cell_type": "code",
   "execution_count": 3,
   "metadata": {
    "collapsed": true
   },
   "outputs": [],
   "source": [
    "import os\n",
    "import sys\n",
    "import numpy as np\n",
    "import scipy.io\n",
    "import scipy.misc\n",
    "import tensorflow as tf"
   ]
  },
  {
   "cell_type": "code",
   "execution_count": 134,
   "metadata": {
    "collapsed": false
   },
   "outputs": [],
   "source": [
    "class VGG(object):\n",
    "    \n",
    "    def __init__(self):\n",
    "        self.graph = None\n",
    "        self.input_shape = [1, 600, 800, 3]\n",
    "        self.content_layer = None\n",
    "        self.style_layer = None\n",
    "    \n",
    "    def factory(name, model_path):\n",
    "        \"\"\"\n",
    "        The factory to create the corresponding model we will use\n",
    "        Available names include \"VGG16\" and \"VGG19\"\n",
    "        \"\"\"\n",
    "        if name == \"VGG16\": return VGG16(model_path)\n",
    "        if name == \"VGG19\": return VGG19(model_path)\n",
    "        \n",
    "    factory = staticmethod(factory)\n",
    "    \n",
    "    def load_model(self):\n",
    "        \"\"\"\n",
    "        The pretrained model contains the layer name and layer type (i.e. pool, conv etc.)\n",
    "        To access those information, we can do the index access:\n",
    "        vgg_layers[0]       [0]      [0]      [0]      [2]                                    [0]      [0] ## weight\n",
    "        vgg_layers[0]       [0]      [0]      [0]      [2]                                    [0]      [1] ## bias\n",
    "                #  always 0 |layer idx|always 0|always 0|0:layer name; 1:layer type; 2: weights|always 0|0:weight; 1:bias\n",
    "        vgg_layers[0][30][0][0][0][0] # to access layer name\n",
    "        vgg_layers[0][30][0][0][1][0] # to access layer type\n",
    "        \n",
    "        Note that the fully connected layers and the softmax are not required for this task, therefore we will skip it. \n",
    "        The fully connected layers have name fc* (It's type is conv though).\n",
    "        \"\"\"\n",
    "        \n",
    "        vgg_layers = scipy.io.loadmat(self.path)['layers']\n",
    "        num_layers = len(vgg_layers[0])\n",
    "        \n",
    "        graph = {}\n",
    "        graph[\"input\"] = tf.Variable(np.zeros(self.input_shape), dtype=tf.float32)\n",
    "        prev = \"input\"\n",
    "        \n",
    "        for idx in range(num_layers):\n",
    "            \n",
    "            layer_name = vgg_layers[0][idx][0][0][0][0]\n",
    "            layer_type = vgg_layers[0][idx][0][0][1][0]\n",
    "            \n",
    "            if layer_name[:2] == \"fc\":\n",
    "                break        # stop before adding the first fc layer\n",
    "            \n",
    "            if layer_type == \"conv\":\n",
    "                W = vgg_layers[0][idx][0][0][2][0][0]\n",
    "                b = vgg_layers[0][idx][0][0][2][0][1]\n",
    "                W = tf.constant(W)   # we don't want to update the network\n",
    "                b = tf.constant(b)\n",
    "                graph[layer_name] = tf.nn.conv2d(graph[prev], filter=W, strides=[1, 1, 1, 1], padding=\"SAME\") + b\n",
    "            elif layer_type == \"relu\":\n",
    "                graph[layer_name] = tf.nn.relu(graph[prev])\n",
    "            elif layer_type == \"pool\":    # according to the paper, average pooling behaves better\n",
    "                graph[layer_name] = tf.nn.avg_pool(graph[prev], ksize=[1, 2, 2, 1], \n",
    "                                                   strides=[1, 2, 2, 1], padding=\"SAME\")\n",
    "            \n",
    "            prev = layer_name\n",
    "        self.graph = graph\n",
    "        \n",
    "    def gram_matrix(F, N, M):\n",
    "        \"\"\"\n",
    "        The gram matrix G.\n",
    "        F -- the features\n",
    "        N -- number of filters\n",
    "        M -- hight x width of one feature map \n",
    "        Names as per paper\n",
    "        \"\"\"\n",
    "        Ft = tf.reshape(F, (M, N))\n",
    "        return tf.matmul(tf.transpose(Ft), Ft)\n",
    "    \n",
    "    def content_loss(self, sess, content_img):\n",
    "        \"\"\"\n",
    "        Compute the context loss as described in the paper. We only need to do the forward \n",
    "        pass once on the content image\n",
    "        \n",
    "        sess -- the current session\n",
    "        content_img -- the content image. should be a numpy array with dimension [1, hight, width, 3]\n",
    "        Note: the dimension of the image should match with the one set at resize_input.\n",
    "        Also, the image should be centered. The mean should be the training set mean of the VGG network.\n",
    "        \"\"\"\n",
    "        if content_img.shape != self.input_shape:\n",
    "            raise Exception(\"Dimension doesn't match\")\n",
    "        if self.content_layer == None:\n",
    "            raise Exception(\"Call from the child class\")\n",
    "        sess.run(self.graph[\"input\"].assign(content_img))\n",
    "        P = sess.run(self.graph[self.content_layer])\n",
    "        F = self.graph[self.content_layer]\n",
    "        return 0.5 * tf.reduce_sum(tf.pow(F - P, 2))\n",
    "        \n",
    "    \n",
    "    def style_loss(self, sess, style_img):\n",
    "        \"\"\"\n",
    "        Compute the style loss as described in the papaer. Again, only do forward pass once for style image\n",
    "        \n",
    "        sess -- the current session\n",
    "        sytle_image -- the style image. Should be a numpy array\n",
    "        Note: the style image should also have the same dimension as the content image, either by cropping or \n",
    "        some other methods.\n",
    "        \n",
    "        The style layers will contain multiple layers. Should be a dictionary with keys are the layer name, \n",
    "        and values are the associated weight\n",
    "        \"\"\"\n",
    "        if style_img.shape != self.input_shape:\n",
    "            raise Exception(\"Dimension doesn't match\")\n",
    "        if self.style_layer == None:\n",
    "            raise Exception(\"Call from child class\")\n",
    "        \n",
    "        N = P.shape[3]  # number of filters\n",
    "        M = P.shape[1] * P.shape[2] # hight x width of one feature map \n",
    "        loss = 0\n",
    "        for key in self.style_layer:\n",
    "            \n",
    "        \n",
    "    def emit(self):\n",
    "        return self.graph\n",
    "    \n",
    "    def resize_input(new_shape):\n",
    "        self.input_shape = new_shape\n",
    "        tf.reshape(self.graph[\"input\"], new_shape)"
   ]
  },
  {
   "cell_type": "code",
   "execution_count": 147,
   "metadata": {
    "collapsed": false
   },
   "outputs": [],
   "source": [
    "class VGG19(VGG):\n",
    "    \n",
    "    def __init__(self, model_path):\n",
    "        self.path  = model_path\n",
    "        self.model = load_model()\n",
    "    \n",
    "    def content_loss(self):\n",
    "        \n",
    "        \n",
    "    def style_loss(self):\n",
    "        "
   ]
  },
  {
   "cell_type": "code",
   "execution_count": 136,
   "metadata": {
    "collapsed": false
   },
   "outputs": [],
   "source": [
    "vgg_layers = scipy.io.loadmat(\"models/imagenet-vgg-verydeep-16.mat\")['layers']"
   ]
  },
  {
   "cell_type": "code",
   "execution_count": 145,
   "metadata": {
    "collapsed": false,
    "scrolled": false
   },
   "outputs": [
    {
     "name": "stdout",
     "output_type": "stream",
     "text": [
      "Tensor(\"Const_7:0\", shape=(3, 3, 3, 64), dtype=float32)\n",
      "Tensor(\"Const_8:0\", shape=(64, 1), dtype=float32)\n"
     ]
    }
   ],
   "source": [
    "w =     vgg_layers[0]       [0]      [0]      [0]      [2]                                    [0]      [0] ## weight\n",
    "b =     vgg_layers[0]       [0]      [0]      [0]      [2]                                    [0]      [1] ## bias\n",
    "                #  always 0 |layer idx|always 0|always 0|0:layer name; 1:layer type; 2: weights|always 0|0:weight; 1:bias\n",
    "    \n",
    "W = tf.constant(w)\n",
    "b = tf.constant(b)\n",
    "print W\n",
    "print b"
   ]
  },
  {
   "cell_type": "code",
   "execution_count": 143,
   "metadata": {
    "collapsed": false
   },
   "outputs": [
    {
     "name": "stdout",
     "output_type": "stream",
     "text": [
      "37\n",
      "conv1_1 conv\n",
      "relu1_1 relu\n",
      "conv1_2 conv\n",
      "relu1_2 relu\n",
      "pool1 pool\n",
      "conv2_1 conv\n",
      "relu2_1 relu\n",
      "conv2_2 conv\n",
      "relu2_2 relu\n",
      "pool2 pool\n",
      "conv3_1 conv\n",
      "relu3_1 relu\n",
      "conv3_2 conv\n",
      "relu3_2 relu\n",
      "conv3_3 conv\n",
      "relu3_3 relu\n",
      "pool3 pool\n",
      "conv4_1 conv\n",
      "relu4_1 relu\n",
      "conv4_2 conv\n",
      "relu4_2 relu\n",
      "conv4_3 conv\n",
      "relu4_3 relu\n",
      "pool4 pool\n",
      "conv5_1 conv\n",
      "relu5_1 relu\n",
      "conv5_2 conv\n",
      "relu5_2 relu\n",
      "conv5_3 conv\n",
      "relu5_3 relu\n",
      "pool5 pool\n",
      "fc6 conv\n",
      "relu6 relu\n",
      "fc7 conv\n",
      "relu7 relu\n",
      "fc8 conv\n",
      "prob softmax\n"
     ]
    }
   ],
   "source": [
    "print len(vgg_layers[0])\n",
    "# print vgg_layers[0][30][0][0][0][0]\n",
    "# print vgg_layers[0][30][0][0][1][0]\n",
    "\n",
    "for i in range(len(vgg_layers[0])):\n",
    "    print vgg_layers[0][i][0][0][0][0], vgg_layers[0][i][0][0][1][0]"
   ]
  }
 ],
 "metadata": {
  "kernelspec": {
   "display_name": "Python 2",
   "language": "python",
   "name": "python2"
  },
  "language_info": {
   "codemirror_mode": {
    "name": "ipython",
    "version": 2
   },
   "file_extension": ".py",
   "mimetype": "text/x-python",
   "name": "python",
   "nbconvert_exporter": "python",
   "pygments_lexer": "ipython2",
   "version": "2.7.12"
  }
 },
 "nbformat": 4,
 "nbformat_minor": 2
}
