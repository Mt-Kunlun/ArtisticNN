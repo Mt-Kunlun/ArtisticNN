{
 "cells": [
  {
   "cell_type": "markdown",
   "metadata": {},
   "source": [
    "This is an implementation of the artistic neural network as described in this [paper](https://arxiv.org/abs/1508.06576)"
   ]
  },
  {
   "cell_type": "code",
   "execution_count": 2,
   "metadata": {
    "collapsed": true
   },
   "outputs": [],
   "source": [
    "class VGG(object):\n",
    "    \n",
    "    def factory(name, model_path):\n",
    "        \"\"\"\n",
    "        The factory to create the corresponding model we will use\n",
    "        Available names include \"VGG16\" and \"VGG19\"\n",
    "        \"\"\"\n",
    "        if name == \"VGG16\": return VGG16(model_path)\n",
    "        if name == \"VGG19\": return VGG19(model_path)\n",
    "        \n",
    "    factory = staticmethod(factory)\n",
    "    \n",
    "    def load_model(self):\n",
    "        raise NotImplementedError(\"Abstract method\")\n",
    "    \n",
    "    def content_loss(self):\n",
    "        raise NotImplementedError(\"Abstract method\")\n",
    "    \n",
    "    def style_loss(self):\n",
    "        raise NotImplementedError(\"Abstract method\")"
   ]
  },
  {
   "cell_type": "code",
   "execution_count": null,
   "metadata": {
    "collapsed": true
   },
   "outputs": [],
   "source": []
  }
 ],
 "metadata": {
  "kernelspec": {
   "display_name": "Python 2",
   "language": "python",
   "name": "python2"
  },
  "language_info": {
   "codemirror_mode": {
    "name": "ipython",
    "version": 2
   },
   "file_extension": ".py",
   "mimetype": "text/x-python",
   "name": "python",
   "nbconvert_exporter": "python",
   "pygments_lexer": "ipython2",
   "version": "2.7.12"
  }
 },
 "nbformat": 4,
 "nbformat_minor": 2
}
